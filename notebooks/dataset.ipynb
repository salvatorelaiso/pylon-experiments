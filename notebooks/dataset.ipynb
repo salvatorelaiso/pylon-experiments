{
 "cells": [
  {
   "cell_type": "markdown",
   "metadata": {},
   "source": [
    "# LogDataset"
   ]
  },
  {
   "cell_type": "markdown",
   "metadata": {},
   "source": [
    "A brief overview over the dataset created."
   ]
  },
  {
   "cell_type": "code",
   "execution_count": 30,
   "metadata": {},
   "outputs": [
    {
     "name": "stdout",
     "output_type": "stream",
     "text": [
      "Number of traces: 152612\n",
      "\n",
      "Trace 0: 32 events\n",
      "[ 2  4  5  6  7  8  9 10 11 12 13 14 15 16 17 16 17 16 17 16 17 16 17 16\n",
      " 17 16 17 16 36 26 17  3]\n",
      "\n",
      "Trace 1: 36 events\n",
      "[ 2  4  5  6  7  8 15  8 15  8 15  8 15  8  9 10 11 12 13 14 15 16 17 16\n",
      " 17 16 17 16 18 19 17 20 28 29 25  3]\n",
      "\n",
      "Trace 2: 27 events\n",
      "[ 2  4  5 33 34 35 34  6  7 35  8  9 11 10 12 13 14 15 16 17 16 17 16 26\n",
      " 36 17  3]\n",
      "\n"
     ]
    }
   ],
   "source": [
    "from pylon_experiments.data.log_dataset import LogDataset\n",
    "\n",
    "train_ds = LogDataset.load(\"../data/bpic2012/datasets/train.pkl\")\n",
    "print(f\"Number of traces: {len(train_ds)}\", end=\"\\n\\n\")\n",
    "for i in range(3):\n",
    "    print(f\"Trace {i}: {train_ds.traces_lengths[i]} events\")\n",
    "    print(train_ds.traces[i], end=\"\\n\\n\")"
   ]
  },
  {
   "cell_type": "code",
   "execution_count": 31,
   "metadata": {},
   "outputs": [
    {
     "name": "stdout",
     "output_type": "stream",
     "text": [
      "Prefix 0: 1 events\n",
      "[2] -> 4\n",
      "\n",
      "Prefix 1: 2 events\n",
      "[2 4] -> 5\n",
      "\n",
      "Prefix 2: 3 events\n",
      "[2 4 5] -> 6\n",
      "\n",
      "Prefix 3: 4 events\n",
      "[2 4 5 6] -> 7\n",
      "\n",
      "Prefix 4: 5 events\n",
      "[2 4 5 6 7] -> 8\n",
      "\n",
      "Prefix 5: 6 events\n",
      "[2 4 5 6 7 8] -> 9\n",
      "\n"
     ]
    }
   ],
   "source": [
    "for i in range(6):\n",
    "    prefix, target, length = train_ds[i]\n",
    "    print(f\"Prefix {i}: {length} events\")\n",
    "    print(f\"{prefix.numpy()} -> {target.numpy()}\", end=\"\\n\\n\")"
   ]
  },
  {
   "cell_type": "code",
   "execution_count": 32,
   "metadata": {},
   "outputs": [
    {
     "name": "stdout",
     "output_type": "stream",
     "text": [
      "Prefix 31: 1 events\n",
      "[2] -> 4\n",
      "\n",
      "Prefix 32: 2 events\n",
      "[2 4] -> 5\n",
      "\n",
      "Prefix 33: 3 events\n",
      "[2 4 5] -> 6\n",
      "\n",
      "Prefix 34: 4 events\n",
      "[2 4 5 6] -> 7\n",
      "\n",
      "Prefix 35: 5 events\n",
      "[2 4 5 6 7] -> 8\n",
      "\n",
      "Prefix 36: 6 events\n",
      "[2 4 5 6 7 8] -> 15\n",
      "\n"
     ]
    }
   ],
   "source": [
    "for i in range(31, 37):\n",
    "    prefix, target, length = train_ds[i]\n",
    "    print(f\"Prefix {i}: {length} events\")\n",
    "    print(f\"{prefix.numpy()} -> {target.numpy()}\", end=\"\\n\\n\")"
   ]
  },
  {
   "cell_type": "code",
   "execution_count": 35,
   "metadata": {},
   "outputs": [
    {
     "data": {
      "text/plain": [
       "(tensor([[2, 4],\n",
       "         [2, 0]]),\n",
       " tensor([5, 4]),\n",
       " tensor([2, 1]))"
      ]
     },
     "execution_count": 35,
     "metadata": {},
     "output_type": "execute_result"
    }
   ],
   "source": [
    "LogDataset.collate_fn([train_ds[0], train_ds[1]])"
   ]
  }
 ],
 "metadata": {
  "kernelspec": {
   "display_name": ".venv",
   "language": "python",
   "name": "python3"
  },
  "language_info": {
   "codemirror_mode": {
    "name": "ipython",
    "version": 3
   },
   "file_extension": ".py",
   "mimetype": "text/x-python",
   "name": "python",
   "nbconvert_exporter": "python",
   "pygments_lexer": "ipython3",
   "version": "3.13.1"
  }
 },
 "nbformat": 4,
 "nbformat_minor": 2
}
