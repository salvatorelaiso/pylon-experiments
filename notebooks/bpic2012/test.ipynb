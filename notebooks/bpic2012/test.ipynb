{
 "cells": [
  {
   "cell_type": "code",
   "execution_count": 1,
   "metadata": {},
   "outputs": [],
   "source": [
    "from abc import ABC, abstractmethod\n",
    "\n",
    "\n",
    "class A(ABC):\n",
    "    _condition: callable = None  # To be overridden in subclasses\n",
    "\n",
    "    def __call__(self):\n",
    "        if not callable(self._condition):\n",
    "            raise NotImplementedError(\n",
    "                \"_condition must be a callable defined in the subclass\"\n",
    "            )\n",
    "        return self._condition()  # Dynamically calls the subclass's _condition\n",
    "\n",
    "\n",
    "class B(A):\n",
    "    _condition = lambda: \"Hello from B\"\n",
    "\n",
    "\n",
    "class C(A):\n",
    "    _condition = lambda: \"Hello from C\""
   ]
  },
  {
   "cell_type": "code",
   "execution_count": 2,
   "metadata": {},
   "outputs": [
    {
     "ename": "TypeError",
     "evalue": "B.<lambda>() takes 0 positional arguments but 1 was given",
     "output_type": "error",
     "traceback": [
      "\u001b[0;31m---------------------------------------------------------------------------\u001b[0m",
      "\u001b[0;31mTypeError\u001b[0m                                 Traceback (most recent call last)",
      "Cell \u001b[0;32mIn[2], line 2\u001b[0m\n\u001b[1;32m      1\u001b[0m b \u001b[38;5;241m=\u001b[39m B()\n\u001b[0;32m----> 2\u001b[0m \u001b[43mb\u001b[49m\u001b[38;5;241;43m.\u001b[39;49m\u001b[43m_condition\u001b[49m\u001b[43m(\u001b[49m\u001b[43m)\u001b[49m\n",
      "\u001b[0;31mTypeError\u001b[0m: B.<lambda>() takes 0 positional arguments but 1 was given"
     ]
    }
   ],
   "source": [
    "b = B()\n",
    "b._condition()"
   ]
  }
 ],
 "metadata": {
  "kernelspec": {
   "display_name": ".venv",
   "language": "python",
   "name": "python3"
  },
  "language_info": {
   "codemirror_mode": {
    "name": "ipython",
    "version": 3
   },
   "file_extension": ".py",
   "mimetype": "text/x-python",
   "name": "python",
   "nbconvert_exporter": "python",
   "pygments_lexer": "ipython3",
   "version": "3.13.2"
  }
 },
 "nbformat": 4,
 "nbformat_minor": 2
}
