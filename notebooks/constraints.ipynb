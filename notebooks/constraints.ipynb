{
 "cells": [
  {
   "cell_type": "code",
   "execution_count": 60,
   "metadata": {},
   "outputs": [],
   "source": [
    "import pathlib\n",
    "\n",
    "\n",
    "declare_file = pathlib.Path(\"../data/bpic2012/constraints/constraints.declare\")\n",
    "txt_file = pathlib.Path(\"../data/bpic2012/constraints/constraints.txt\")"
   ]
  },
  {
   "cell_type": "code",
   "execution_count": 61,
   "metadata": {},
   "outputs": [],
   "source": [
    "import re\n",
    "\n",
    "\n",
    "def is_declare_constraint(line):\n",
    "    return re.match(r\"(.*)\\[(.*)\\](.*)\", line) is not None\n",
    "\n",
    "\n",
    "def get_declare_constraint(line):\n",
    "    return line.split(\"]\")[0] + \"]\""
   ]
  },
  {
   "cell_type": "code",
   "execution_count": 62,
   "metadata": {},
   "outputs": [],
   "source": [
    "def get_support_percentage(line):\n",
    "    return float(re.match(r\"\\d+\\) In (.*)% of traces in the log, (.*)\", line).group(1))"
   ]
  },
  {
   "cell_type": "code",
   "execution_count": 63,
   "metadata": {},
   "outputs": [],
   "source": [
    "with declare_file.open(\"r\") as declare, txt_file.open(\"r\") as textual:\n",
    "    declare_constraints = []\n",
    "    for line in declare:\n",
    "        if is_declare_constraint(line):\n",
    "            declare_constraints.append(get_declare_constraint(line))\n",
    "\n",
    "    support_percentages = []\n",
    "    skip = True\n",
    "    for line in textual:\n",
    "        if line == \"Constraints:\\n\":\n",
    "            skip = False\n",
    "            continue\n",
    "        if skip:\n",
    "            continue\n",
    "        support_percentages.append(get_support_percentage(line))\n",
    "\n",
    "    assert len(declare_constraints) == len(support_percentages)"
   ]
  },
  {
   "cell_type": "code",
   "execution_count": 64,
   "metadata": {},
   "outputs": [
    {
     "name": "stdout",
     "output_type": "stream",
     "text": [
      "Absence2[A_PREACCEPTED]: 100.0%\n",
      "Init[A_SUBMITTED]: 100.0%\n",
      "Exactly1[A_PARTLYSUBMITTED]: 100.0%\n",
      "Exactly1[A_SUBMITTED]: 100.0%\n",
      "Chain Succession[A_SUBMITTED, A_PARTLYSUBMITTED]: 100.0%\n",
      "Absence2[A_FINALIZED]: 100.0%\n",
      "Absence2[A_ACCEPTED]: 100.0%\n",
      "Absence2[A_DECLINED]: 100.0%\n",
      "Absence2[O_CREATED]: 89.01%\n",
      "Absence2[O_SELECTED]: 89.01%\n",
      "Absence2[O_SENT]: 89.01%\n",
      "Absence[W_Nabellen incomplete dossiers]: 87.41%\n",
      "Absence[O_ACCEPTED]: 82.86%\n",
      "Absence[A_REGISTERED]: 82.84%\n",
      "Absence[A_ACTIVATED]: 82.84%\n",
      "Absence[A_APPROVED]: 82.84%\n",
      "Absence[O_CANCELLED]: 79.67%\n",
      "Absence[A_CANCELLED]: 78.55%\n",
      "Absence[O_SENT_BACK]: 75.14%\n",
      "Absence[W_Valideren aanvraag]: 75.14%\n"
     ]
    }
   ],
   "source": [
    "for i in range(len(declare_constraints)):\n",
    "    print(f\"{declare_constraints[i]}: {support_percentages[i]}%\")"
   ]
  }
 ],
 "metadata": {
  "kernelspec": {
   "display_name": ".venv",
   "language": "python",
   "name": "python3"
  },
  "language_info": {
   "codemirror_mode": {
    "name": "ipython",
    "version": 3
   },
   "file_extension": ".py",
   "mimetype": "text/x-python",
   "name": "python",
   "nbconvert_exporter": "python",
   "pygments_lexer": "ipython3",
   "version": "3.13.2"
  }
 },
 "nbformat": 4,
 "nbformat_minor": 2
}
